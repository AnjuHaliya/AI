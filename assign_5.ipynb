{
  "nbformat": 4,
  "nbformat_minor": 0,
  "metadata": {
    "colab": {
      "name": "assign 5",
      "provenance": [],
      "authorship_tag": "ABX9TyOZvgFfU2rOrWfGAZXeEe5Y",
      "include_colab_link": true
    },
    "kernelspec": {
      "name": "python3",
      "display_name": "Python 3"
    },
    "language_info": {
      "name": "python"
    }
  },
  "cells": [
    {
      "cell_type": "markdown",
      "metadata": {
        "id": "view-in-github",
        "colab_type": "text"
      },
      "source": [
        "<a href=\"https://colab.research.google.com/github/AnjuHaliya/AI/blob/main/assign_5.ipynb\" target=\"_parent\"><img src=\"https://colab.research.google.com/assets/colab-badge.svg\" alt=\"Open In Colab\"/></a>"
      ]
    },
    {
      "cell_type": "code",
      "metadata": {
        "id": "3u_3EsCV6rML",
        "colab": {
          "base_uri": "https://localhost:8080/"
        },
        "outputId": "ab747d10-ec2d-4888-cd11-99c4b70f6c57"
      },
      "source": [
        "from google.colab import drive\n",
        "drive.mount('/content/drive')"
      ],
      "execution_count": null,
      "outputs": [
        {
          "output_type": "stream",
          "name": "stdout",
          "text": [
            "Drive already mounted at /content/drive; to attempt to forcibly remount, call drive.mount(\"/content/drive\", force_remount=True).\n"
          ]
        }
      ]
    },
    {
      "cell_type": "code",
      "metadata": {
        "id": "Jq68XN3oDkXz"
      },
      "source": [
        "import numpy as np\n",
        "import math as mt\n",
        "import random\n",
        "import pandas as pd\n",
        "import sys\n"
      ],
      "execution_count": null,
      "outputs": []
    },
    {
      "cell_type": "code",
      "metadata": {
        "id": "sZls1kUQDp1n"
      },
      "source": [
        "from sklearn.model_selection import train_test_split\n",
        "from sklearn.metrics import mean_absolute_error,mean_squared_error\n",
        "c=-1\n",
        "eeta=0.1\n",
        "max_iter=1000\n",
        "import warnings\n",
        "warnings.filterwarnings('ignore')"
      ],
      "execution_count": null,
      "outputs": []
    },
    {
      "cell_type": "code",
      "metadata": {
        "colab": {
          "base_uri": "https://localhost:8080/",
          "height": 203
        },
        "id": "fEOhzfOmDvMH",
        "outputId": "aed90d81-7ec6-4217-8f59-b7ccc3bda9c3"
      },
      "source": [
        "data = pd.read_excel('/content/drive/MyDrive/Load Data in kW.xlsx')\n",
        "data.head()"
      ],
      "execution_count": null,
      "outputs": [
        {
          "output_type": "execute_result",
          "data": {
            "text/html": [
              "<div>\n",
              "<style scoped>\n",
              "    .dataframe tbody tr th:only-of-type {\n",
              "        vertical-align: middle;\n",
              "    }\n",
              "\n",
              "    .dataframe tbody tr th {\n",
              "        vertical-align: top;\n",
              "    }\n",
              "\n",
              "    .dataframe thead th {\n",
              "        text-align: right;\n",
              "    }\n",
              "</style>\n",
              "<table border=\"1\" class=\"dataframe\">\n",
              "  <thead>\n",
              "    <tr style=\"text-align: right;\">\n",
              "      <th></th>\n",
              "      <th>Date</th>\n",
              "      <th>Time</th>\n",
              "      <th>Load (kW)</th>\n",
              "    </tr>\n",
              "  </thead>\n",
              "  <tbody>\n",
              "    <tr>\n",
              "      <th>0</th>\n",
              "      <td>01.09.2018</td>\n",
              "      <td>00:00:00</td>\n",
              "      <td>5551.82208</td>\n",
              "    </tr>\n",
              "    <tr>\n",
              "      <th>1</th>\n",
              "      <td>NaN</td>\n",
              "      <td>01:00:00</td>\n",
              "      <td>4983.17184</td>\n",
              "    </tr>\n",
              "    <tr>\n",
              "      <th>2</th>\n",
              "      <td>NaN</td>\n",
              "      <td>02:00:00</td>\n",
              "      <td>4888.39680</td>\n",
              "    </tr>\n",
              "    <tr>\n",
              "      <th>3</th>\n",
              "      <td>NaN</td>\n",
              "      <td>03:00:00</td>\n",
              "      <td>5072.95872</td>\n",
              "    </tr>\n",
              "    <tr>\n",
              "      <th>4</th>\n",
              "      <td>NaN</td>\n",
              "      <td>04:00:00</td>\n",
              "      <td>5196.25980</td>\n",
              "    </tr>\n",
              "  </tbody>\n",
              "</table>\n",
              "</div>"
            ],
            "text/plain": [
              "         Date      Time   Load (kW)\n",
              "0  01.09.2018  00:00:00  5551.82208\n",
              "1         NaN  01:00:00  4983.17184\n",
              "2         NaN  02:00:00  4888.39680\n",
              "3         NaN  03:00:00  5072.95872\n",
              "4         NaN  04:00:00  5196.25980"
            ]
          },
          "metadata": {},
          "execution_count": 7
        }
      ]
    },
    {
      "cell_type": "code",
      "metadata": {
        "id": "3YP5b00yEizH"
      },
      "source": [
        "X1=[]\n",
        "X2=[]\n",
        "X3=[]\n",
        "Y=[]\n",
        "data=data['Load (kW)']\n",
        "for i in range(3,data.shape[0]):\n",
        "     X1.append(data.iloc[i-3])\n",
        "     X2.append(data.iloc[i-2])\n",
        "     X3.append(data.iloc[i-1])\n",
        "     Y.append(data.iloc[i])"
      ],
      "execution_count": null,
      "outputs": []
    },
    {
      "cell_type": "code",
      "metadata": {
        "colab": {
          "base_uri": "https://localhost:8080/",
          "height": 203
        },
        "id": "cIQwVrGBErW5",
        "outputId": "fb403f3c-5144-485b-a167-77b7fc398270"
      },
      "source": [
        "data=pd.DataFrame({'L(T-3)':X1,'L(T-2)':X2,'L(T-1)':X3,'L(T)':Y})\n",
        "data.head()"
      ],
      "execution_count": null,
      "outputs": [
        {
          "output_type": "execute_result",
          "data": {
            "text/html": [
              "<div>\n",
              "<style scoped>\n",
              "    .dataframe tbody tr th:only-of-type {\n",
              "        vertical-align: middle;\n",
              "    }\n",
              "\n",
              "    .dataframe tbody tr th {\n",
              "        vertical-align: top;\n",
              "    }\n",
              "\n",
              "    .dataframe thead th {\n",
              "        text-align: right;\n",
              "    }\n",
              "</style>\n",
              "<table border=\"1\" class=\"dataframe\">\n",
              "  <thead>\n",
              "    <tr style=\"text-align: right;\">\n",
              "      <th></th>\n",
              "      <th>L(T-3)</th>\n",
              "      <th>L(T-2)</th>\n",
              "      <th>L(T-1)</th>\n",
              "      <th>L(T)</th>\n",
              "    </tr>\n",
              "  </thead>\n",
              "  <tbody>\n",
              "    <tr>\n",
              "      <th>0</th>\n",
              "      <td>5551.82208</td>\n",
              "      <td>4983.17184</td>\n",
              "      <td>4888.39680</td>\n",
              "      <td>5072.95872</td>\n",
              "    </tr>\n",
              "    <tr>\n",
              "      <th>1</th>\n",
              "      <td>4983.17184</td>\n",
              "      <td>4888.39680</td>\n",
              "      <td>5072.95872</td>\n",
              "      <td>5196.25980</td>\n",
              "    </tr>\n",
              "    <tr>\n",
              "      <th>2</th>\n",
              "      <td>4888.39680</td>\n",
              "      <td>5072.95872</td>\n",
              "      <td>5196.25980</td>\n",
              "      <td>5641.29720</td>\n",
              "    </tr>\n",
              "    <tr>\n",
              "      <th>3</th>\n",
              "      <td>5072.95872</td>\n",
              "      <td>5196.25980</td>\n",
              "      <td>5641.29720</td>\n",
              "      <td>7153.17732</td>\n",
              "    </tr>\n",
              "    <tr>\n",
              "      <th>4</th>\n",
              "      <td>5196.25980</td>\n",
              "      <td>5641.29720</td>\n",
              "      <td>7153.17732</td>\n",
              "      <td>7849.80504</td>\n",
              "    </tr>\n",
              "  </tbody>\n",
              "</table>\n",
              "</div>"
            ],
            "text/plain": [
              "       L(T-3)      L(T-2)      L(T-1)        L(T)\n",
              "0  5551.82208  4983.17184  4888.39680  5072.95872\n",
              "1  4983.17184  4888.39680  5072.95872  5196.25980\n",
              "2  4888.39680  5072.95872  5196.25980  5641.29720\n",
              "3  5072.95872  5196.25980  5641.29720  7153.17732\n",
              "4  5196.25980  5641.29720  7153.17732  7849.80504"
            ]
          },
          "metadata": {},
          "execution_count": 9
        }
      ]
    },
    {
      "cell_type": "code",
      "metadata": {
        "colab": {
          "base_uri": "https://localhost:8080/",
          "height": 203
        },
        "id": "f7hJngVAEuxB",
        "outputId": "5a6b7a3a-1dcd-42e3-c0bc-050894aa5737"
      },
      "source": [
        "def normalize(column):\n",
        "    c_max,c_min=np.max(column),np.min(column)\n",
        "    for i in range(len(column)):\n",
        "        column.iloc[i]=(column.iloc[i]-c_min)/(c_max-c_min)\n",
        "    return c_max,c_min\n",
        "x1max,x1min=normalize(data['L(T-3)'])\n",
        "x2max,x2min=normalize(data['L(T-2)'])\n",
        "x3max,x3min=normalize(data['L(T-1)'])\n",
        "ymax,ymin=normalize(data['L(T)'])\n",
        "data.head()"
      ],
      "execution_count": null,
      "outputs": [
        {
          "output_type": "execute_result",
          "data": {
            "text/html": [
              "<div>\n",
              "<style scoped>\n",
              "    .dataframe tbody tr th:only-of-type {\n",
              "        vertical-align: middle;\n",
              "    }\n",
              "\n",
              "    .dataframe tbody tr th {\n",
              "        vertical-align: top;\n",
              "    }\n",
              "\n",
              "    .dataframe thead th {\n",
              "        text-align: right;\n",
              "    }\n",
              "</style>\n",
              "<table border=\"1\" class=\"dataframe\">\n",
              "  <thead>\n",
              "    <tr style=\"text-align: right;\">\n",
              "      <th></th>\n",
              "      <th>L(T-3)</th>\n",
              "      <th>L(T-2)</th>\n",
              "      <th>L(T-1)</th>\n",
              "      <th>L(T)</th>\n",
              "    </tr>\n",
              "  </thead>\n",
              "  <tbody>\n",
              "    <tr>\n",
              "      <th>0</th>\n",
              "      <td>0.397877</td>\n",
              "      <td>0.293800</td>\n",
              "      <td>0.276454</td>\n",
              "      <td>0.310234</td>\n",
              "    </tr>\n",
              "    <tr>\n",
              "      <th>1</th>\n",
              "      <td>0.293800</td>\n",
              "      <td>0.276454</td>\n",
              "      <td>0.310234</td>\n",
              "      <td>0.332801</td>\n",
              "    </tr>\n",
              "    <tr>\n",
              "      <th>2</th>\n",
              "      <td>0.276454</td>\n",
              "      <td>0.310234</td>\n",
              "      <td>0.332801</td>\n",
              "      <td>0.414254</td>\n",
              "    </tr>\n",
              "    <tr>\n",
              "      <th>3</th>\n",
              "      <td>0.310234</td>\n",
              "      <td>0.332801</td>\n",
              "      <td>0.414254</td>\n",
              "      <td>0.690965</td>\n",
              "    </tr>\n",
              "    <tr>\n",
              "      <th>4</th>\n",
              "      <td>0.332801</td>\n",
              "      <td>0.414254</td>\n",
              "      <td>0.690965</td>\n",
              "      <td>0.818465</td>\n",
              "    </tr>\n",
              "  </tbody>\n",
              "</table>\n",
              "</div>"
            ],
            "text/plain": [
              "     L(T-3)    L(T-2)    L(T-1)      L(T)\n",
              "0  0.397877  0.293800  0.276454  0.310234\n",
              "1  0.293800  0.276454  0.310234  0.332801\n",
              "2  0.276454  0.310234  0.332801  0.414254\n",
              "3  0.310234  0.332801  0.414254  0.690965\n",
              "4  0.332801  0.414254  0.690965  0.818465"
            ]
          },
          "metadata": {},
          "execution_count": 10
        }
      ]
    },
    {
      "cell_type": "code",
      "metadata": {
        "colab": {
          "base_uri": "https://localhost:8080/"
        },
        "id": "O-YHMxdBE3fI",
        "outputId": "1f9d0fda-8e9d-437e-ed30-d31fa4b70225"
      },
      "source": [
        "data.isnull().sum()"
      ],
      "execution_count": null,
      "outputs": [
        {
          "output_type": "execute_result",
          "data": {
            "text/plain": [
              "L(T-3)    0\n",
              "L(T-2)    0\n",
              "L(T-1)    0\n",
              "L(T)      0\n",
              "dtype: int64"
            ]
          },
          "metadata": {},
          "execution_count": 11
        }
      ]
    },
    {
      "cell_type": "code",
      "metadata": {
        "id": "nrSU1idTE85K"
      },
      "source": [
        "X=data[['L(T-3)','L(T-2)','L(T-1)']]\n",
        "Y=data['L(T)']\n",
        "Xtrain,Xtest,Ytrain,Ytest=train_test_split(X,Y,test_size=0.1,random_state=101)"
      ],
      "execution_count": null,
      "outputs": []
    },
    {
      "cell_type": "code",
      "metadata": {
        "id": "fxAIoklKFAw2",
        "colab": {
          "base_uri": "https://localhost:8080/"
        },
        "outputId": "e69feece-ca35-428f-fef7-aa15a042cc37"
      },
      "source": [
        "m=[np.random.uniform(-10,10) for i in range (Xtrain.shape[1])]\n",
        "c=np.random.uniform(-10,10)\n",
        "epochs=500\n",
        "for _ in range (epochs):\n",
        "    for i in range (Xtrain.shape[0]):\n",
        "     Y,Ypred=Ytrain.iloc[i],sum([Xtrain.iat[i,z]*m[z] for z in range(Xtrain.shape[1])])\n",
        "     gradm=[-1*Xtrain.iat[i,j]*(Y-Ypred-c) for j in range(Xtrain.shape[1])]\n",
        "     gradc=-1*(Y-Ypred-c)\n",
        "     c=c-eeta*gradc\n",
        "     for j in range (len(m)):\n",
        "        m[j]=m[j]-eeta*gradm[j]\n",
        "print (m,c)\n",
        "m1=m[0]\n",
        "m2=m[1]\n",
        "m3=m[2]"
      ],
      "execution_count": 15,
      "outputs": [
        {
          "output_type": "stream",
          "name": "stdout",
          "text": [
            "[-0.23128366799983113, -0.007745238430485685, 0.9080113730757413] 0.14143639495293978\n"
          ]
        }
      ]
    },
    {
      "cell_type": "code",
      "metadata": {
        "id": "RUYQbCMXGyPu"
      },
      "source": [
        "y_pred_train = []\n",
        "for sample in range(Xtrain.shape[0]):\n",
        "  y_p_tr = (m[0] * Xtrain.iat[sample,0]) + c + (m[1] *Xtrain.iat[sample,1] )+(m[2]*Xtrain.iat[sample,2])\n",
        "  y_pred_train.append(y_p_tr)"
      ],
      "execution_count": 16,
      "outputs": []
    },
    {
      "cell_type": "code",
      "metadata": {
        "id": "PfJISSXUG3Gk"
      },
      "source": [
        "y_pred_test = []\n",
        "for sample in range(Xtest.shape[0]):\n",
        "  y_p_te = (m[0] * Xtest.iat[sample,0]) + c + (m[1] * Xtest.iat[sample,1])+(m[2]*Xtest.iat[sample,2])\n",
        "  y_pred_test.append(y_p_te)"
      ],
      "execution_count": 17,
      "outputs": []
    },
    {
      "cell_type": "code",
      "metadata": {
        "id": "nYIzVT2lG7dv"
      },
      "source": [
        "#Denormalize\n",
        "Xtrain['L(T-3)']=Xtrain['L(T-3)']*(x1max-x1min)+x1min\n",
        "Xtrain ['L(T-2)']=Xtrain ['L(T-2)']*(x2max-x2min)+x2min\n",
        "Xtrain ['L(T-1)']=Xtrain ['L(T-1)']*(x3max-x2min)+x3min\n",
        "Ytrain=Ytrain*(ymax-ymin)+ymin\n",
        "Xtest['L(T-3)']=Xtest['L(T-3)']*(x1max-x1min)+x1min\n",
        "Xtest['L(T-3)']=Xtest['L(T-2)']*(x2max-x2min)+x2min\n",
        "Xtest['L(T-3)']=Xtest['L(T-1)']*(x3max-x3min)+x3min\n",
        "Ytest=Ytest*(ymax-ymin)+ymin\n",
        "y_pred_train=np.multiply(y_pred_train,(ymax-ymin)+ymin)\n",
        "y_pred_test=np.multiply(y_pred_test,(ymax-ymin)+ymin)"
      ],
      "execution_count": 18,
      "outputs": []
    },
    {
      "cell_type": "code",
      "metadata": {
        "colab": {
          "base_uri": "https://localhost:8080/"
        },
        "id": "PR-_lv0EHBR2",
        "outputId": "381f3bc3-85b8-44f8-877a-f02eb1c8993b"
      },
      "source": [
        "import math\n",
        "from sklearn.metrics import mean_squared_error \n",
        "from sklearn.metrics import mean_absolute_error\n",
        "\n",
        "\n",
        "#Training Accuracies\n",
        "rmse = math.sqrt(mean_squared_error(y_pred_train, Ytrain)) \n",
        "print('Root mean square error', rmse) \n",
        "mse = (mean_squared_error(y_pred_train,Ytrain)) \n",
        "print('Mean square error', mse) \n",
        "mae=mean_absolute_error(y_pred_train,Ytrain)\n",
        "print('Mean absolute error', mae)\n",
        "\n",
        "\n",
        "#Testing Accuracies\n",
        "rmse = math.sqrt(mean_squared_error(y_pred_test,Ytest )) \n",
        "print('Root mean square error', rmse) \n",
        "mse = (mean_squared_error(y_pred_test,Ytest))\n",
        "print('Mean square error', mse) \n",
        "mae=mean_absolute_error(y_pred_test,Ytest)\n",
        "print('Mean absolute error', mae)"
      ],
      "execution_count": 20,
      "outputs": [
        {
          "output_type": "stream",
          "name": "stdout",
          "text": [
            "Root mean square error 2090.4082757029028\n",
            "Mean square error 4369806.759127183\n",
            "Mean absolute error 1938.1202257508612\n",
            "Root mean square error 2006.2398474392335\n",
            "Mean square error 4024998.325452999\n",
            "Mean absolute error 1853.1714421303\n"
          ]
        }
      ]
    },
    {
      "cell_type": "code",
      "metadata": {
        "colab": {
          "base_uri": "https://localhost:8080/",
          "height": 417
        },
        "id": "tWLnyJ9gHTBj",
        "outputId": "3cbc1e66-6ad8-470e-f9ff-b848d988a9aa"
      },
      "source": [
        "Xtrain ['Y_Train']=Ytrain\n",
        "Xtrain['Y_Train_prediction']=y_pred_train\n",
        "Xtrain"
      ],
      "execution_count": 21,
      "outputs": [
        {
          "output_type": "execute_result",
          "data": {
            "text/html": [
              "<div>\n",
              "<style scoped>\n",
              "    .dataframe tbody tr th:only-of-type {\n",
              "        vertical-align: middle;\n",
              "    }\n",
              "\n",
              "    .dataframe tbody tr th {\n",
              "        vertical-align: top;\n",
              "    }\n",
              "\n",
              "    .dataframe thead th {\n",
              "        text-align: right;\n",
              "    }\n",
              "</style>\n",
              "<table border=\"1\" class=\"dataframe\">\n",
              "  <thead>\n",
              "    <tr style=\"text-align: right;\">\n",
              "      <th></th>\n",
              "      <th>L(T-3)</th>\n",
              "      <th>L(T-2)</th>\n",
              "      <th>L(T-1)</th>\n",
              "      <th>Y_Train</th>\n",
              "      <th>Y_Train_prediction</th>\n",
              "    </tr>\n",
              "  </thead>\n",
              "  <tbody>\n",
              "    <tr>\n",
              "      <th>9</th>\n",
              "      <td>6292.87560</td>\n",
              "      <td>5349.80160</td>\n",
              "      <td>5225.40936</td>\n",
              "      <td>5000.47452</td>\n",
              "      <td>2849.498218</td>\n",
              "    </tr>\n",
              "    <tr>\n",
              "      <th>1535</th>\n",
              "      <td>6488.50500</td>\n",
              "      <td>6488.50500</td>\n",
              "      <td>6834.55860</td>\n",
              "      <td>6609.46788</td>\n",
              "      <td>5126.462435</td>\n",
              "    </tr>\n",
              "    <tr>\n",
              "      <th>895</th>\n",
              "      <td>6767.68608</td>\n",
              "      <td>5471.38800</td>\n",
              "      <td>5709.88440</td>\n",
              "      <td>5536.85760</td>\n",
              "      <td>3382.144546</td>\n",
              "    </tr>\n",
              "    <tr>\n",
              "      <th>1803</th>\n",
              "      <td>5024.01240</td>\n",
              "      <td>4972.57200</td>\n",
              "      <td>5208.10668</td>\n",
              "      <td>5744.48976</td>\n",
              "      <td>3303.703205</td>\n",
              "    </tr>\n",
              "    <tr>\n",
              "      <th>1056</th>\n",
              "      <td>5959.60416</td>\n",
              "      <td>6021.17676</td>\n",
              "      <td>5954.46012</td>\n",
              "      <td>5148.24876</td>\n",
              "      <td>4037.072066</td>\n",
              "    </tr>\n",
              "    <tr>\n",
              "      <th>...</th>\n",
              "      <td>...</td>\n",
              "      <td>...</td>\n",
              "      <td>...</td>\n",
              "      <td>...</td>\n",
              "      <td>...</td>\n",
              "    </tr>\n",
              "    <tr>\n",
              "      <th>599</th>\n",
              "      <td>5633.19144</td>\n",
              "      <td>5671.84968</td>\n",
              "      <td>5830.37964</td>\n",
              "      <td>6411.65616</td>\n",
              "      <td>3981.296226</td>\n",
              "    </tr>\n",
              "    <tr>\n",
              "      <th>1599</th>\n",
              "      <td>5900.99328</td>\n",
              "      <td>5442.86196</td>\n",
              "      <td>4595.34240</td>\n",
              "      <td>4412.18340</td>\n",
              "      <td>2069.193647</td>\n",
              "    </tr>\n",
              "    <tr>\n",
              "      <th>1361</th>\n",
              "      <td>5307.40224</td>\n",
              "      <td>4870.93824</td>\n",
              "      <td>4486.84992</td>\n",
              "      <td>4207.51296</td>\n",
              "      <td>2139.110104</td>\n",
              "    </tr>\n",
              "    <tr>\n",
              "      <th>1547</th>\n",
              "      <td>8223.60528</td>\n",
              "      <td>8138.65068</td>\n",
              "      <td>8665.36920</td>\n",
              "      <td>7292.37816</td>\n",
              "      <td>7146.539346</td>\n",
              "    </tr>\n",
              "    <tr>\n",
              "      <th>863</th>\n",
              "      <td>5548.54860</td>\n",
              "      <td>5671.84968</td>\n",
              "      <td>5848.61760</td>\n",
              "      <td>6459.66720</td>\n",
              "      <td>4039.774283</td>\n",
              "    </tr>\n",
              "  </tbody>\n",
              "</table>\n",
              "<p>1962 rows × 5 columns</p>\n",
              "</div>"
            ],
            "text/plain": [
              "          L(T-3)      L(T-2)      L(T-1)     Y_Train  Y_Train_prediction\n",
              "9     6292.87560  5349.80160  5225.40936  5000.47452         2849.498218\n",
              "1535  6488.50500  6488.50500  6834.55860  6609.46788         5126.462435\n",
              "895   6767.68608  5471.38800  5709.88440  5536.85760         3382.144546\n",
              "1803  5024.01240  4972.57200  5208.10668  5744.48976         3303.703205\n",
              "1056  5959.60416  6021.17676  5954.46012  5148.24876         4037.072066\n",
              "...          ...         ...         ...         ...                 ...\n",
              "599   5633.19144  5671.84968  5830.37964  6411.65616         3981.296226\n",
              "1599  5900.99328  5442.86196  4595.34240  4412.18340         2069.193647\n",
              "1361  5307.40224  4870.93824  4486.84992  4207.51296         2139.110104\n",
              "1547  8223.60528  8138.65068  8665.36920  7292.37816         7146.539346\n",
              "863   5548.54860  5671.84968  5848.61760  6459.66720         4039.774283\n",
              "\n",
              "[1962 rows x 5 columns]"
            ]
          },
          "metadata": {},
          "execution_count": 21
        }
      ]
    },
    {
      "cell_type": "code",
      "metadata": {
        "colab": {
          "base_uri": "https://localhost:8080/"
        },
        "id": "NrNZ2jjeHFax",
        "outputId": "2ba0f170-418b-4205-c458-13304f578a1e"
      },
      "source": [
        "X1=input('enter X1 value')\n",
        "X2=input('enter X2 value')\n",
        "X3=input ('enter X3 value')\n",
        "print('X1=',X1)\n",
        "print('X2=',X2)\n",
        "print ('x3=',X3)\n",
        "Y=m1*float(X1)+m2*float(X2)+m3*float(X3)+c\n",
        "print('Y=',Y)"
      ],
      "execution_count": 23,
      "outputs": [
        {
          "output_type": "stream",
          "name": "stdout",
          "text": [
            "enter X1 value6578\n",
            "enter X2 value6574\n",
            "enter X3 value6879\n",
            "X1= 6578\n",
            "X2= 6574\n",
            "x3= 6879\n",
            "Y= 4674.050506238075\n"
          ]
        }
      ]
    }
  ]
}